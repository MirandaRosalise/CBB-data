{
 "cells": [
  {
   "cell_type": "code",
   "execution_count": 1,
   "metadata": {
    "collapsed": true
   },
   "outputs": [
    {
     "data": {
      "text/plain": "'VwUfQUdvEfDQ'"
     },
     "execution_count": 1,
     "metadata": {},
     "output_type": "execute_result"
    }
   ],
   "source": [
    "import json\n",
    "import pandas as pd\n",
    "import os\n",
    "from kenpompy.utils import login\n",
    "from kenpompy import summary as kp\n",
    "from dotenv import load_dotenv\n",
    "\n",
    "load_dotenv()\n",
    "kp_user = os.getenv('KPUSER')\n",
    "kp_pass = os.getenv('KPPASS')\n",
    "kp_pass"
   ]
  },
  {
   "cell_type": "code",
   "execution_count": 2,
   "outputs": [
    {
     "ename": "LinkNotFoundError",
     "evalue": "",
     "output_type": "error",
     "traceback": [
      "\u001B[0;31m---------------------------------------------------------------------------\u001B[0m",
      "\u001B[0;31mLinkNotFoundError\u001B[0m                         Traceback (most recent call last)",
      "Cell \u001B[0;32mIn [2], line 1\u001B[0m\n\u001B[0;32m----> 1\u001B[0m browser\u001B[38;5;241m=\u001B[39mlogin(kp_user, kp_pass)\n\u001B[1;32m      2\u001B[0m eff_stats \u001B[38;5;241m=\u001B[39m kp\u001B[38;5;241m.\u001B[39mget_efficiency(browser)\n",
      "File \u001B[0;32m~/miniforge3/envs/basketball/lib/python3.10/site-packages/kenpompy/utils.py:26\u001B[0m, in \u001B[0;36mlogin\u001B[0;34m(email, password)\u001B[0m\n\u001B[1;32m     24\u001B[0m \u001B[38;5;66;03m# Response page actually throws an error but further navigation works and will show you as logged in.\u001B[39;00m\n\u001B[1;32m     25\u001B[0m browser\u001B[38;5;241m.\u001B[39mget_current_page()\n\u001B[0;32m---> 26\u001B[0m \u001B[43mbrowser\u001B[49m\u001B[38;5;241;43m.\u001B[39;49m\u001B[43mselect_form\u001B[49m\u001B[43m(\u001B[49m\u001B[38;5;124;43m'\u001B[39;49m\u001B[38;5;124;43mform[action=\u001B[39;49m\u001B[38;5;124;43m\"\u001B[39;49m\u001B[38;5;124;43mhandlers/login_handler.php\u001B[39;49m\u001B[38;5;124;43m\"\u001B[39;49m\u001B[38;5;124;43m]\u001B[39;49m\u001B[38;5;124;43m'\u001B[39;49m\u001B[43m)\u001B[49m\n\u001B[1;32m     27\u001B[0m browser[\u001B[38;5;124m'\u001B[39m\u001B[38;5;124memail\u001B[39m\u001B[38;5;124m'\u001B[39m] \u001B[38;5;241m=\u001B[39m email\n\u001B[1;32m     28\u001B[0m browser[\u001B[38;5;124m'\u001B[39m\u001B[38;5;124mpassword\u001B[39m\u001B[38;5;124m'\u001B[39m] \u001B[38;5;241m=\u001B[39m password\n",
      "File \u001B[0;32m~/miniforge3/envs/basketball/lib/python3.10/site-packages/mechanicalsoup/stateful_browser.py:241\u001B[0m, in \u001B[0;36mStatefulBrowser.select_form\u001B[0;34m(self, selector, nr)\u001B[0m\n\u001B[1;32m    239\u001B[0m             \u001B[38;5;28mprint\u001B[39m(\u001B[38;5;124m'\u001B[39m\u001B[38;5;124mselect_form failed for\u001B[39m\u001B[38;5;124m'\u001B[39m, selector)\n\u001B[1;32m    240\u001B[0m             \u001B[38;5;28mself\u001B[39m\u001B[38;5;241m.\u001B[39mlaunch_browser()\n\u001B[0;32m--> 241\u001B[0m         \u001B[38;5;28;01mraise\u001B[39;00m LinkNotFoundError()\n\u001B[1;32m    243\u001B[0m     form \u001B[38;5;241m=\u001B[39m found_forms[\u001B[38;5;241m-\u001B[39m\u001B[38;5;241m1\u001B[39m]\n\u001B[1;32m    245\u001B[0m \u001B[38;5;28;01mif\u001B[39;00m form \u001B[38;5;129;01mand\u001B[39;00m form\u001B[38;5;241m.\u001B[39mhas_attr(\u001B[38;5;124m'\u001B[39m\u001B[38;5;124mid\u001B[39m\u001B[38;5;124m'\u001B[39m):\n",
      "\u001B[0;31mLinkNotFoundError\u001B[0m: "
     ]
    }
   ],
   "source": [
    "browser=login(kp_user, kp_pass)\n",
    "eff_stats = kp.get_efficiency(browser)"
   ],
   "metadata": {
    "collapsed": false
   }
  },
  {
   "cell_type": "code",
   "execution_count": 14,
   "outputs": [
    {
     "ename": "NameError",
     "evalue": "name 'browser' is not defined",
     "output_type": "error",
     "traceback": [
      "\u001B[0;31m---------------------------------------------------------------------------\u001B[0m",
      "\u001B[0;31mNameError\u001B[0m                                 Traceback (most recent call last)",
      "Cell \u001B[0;32mIn [14], line 1\u001B[0m\n\u001B[0;32m----> 1\u001B[0m browser\n",
      "\u001B[0;31mNameError\u001B[0m: name 'browser' is not defined"
     ]
    }
   ],
   "source": [
    "browser"
   ],
   "metadata": {
    "collapsed": false
   }
  }
 ],
 "metadata": {
  "kernelspec": {
   "display_name": "Python 3",
   "language": "python",
   "name": "python3"
  },
  "language_info": {
   "codemirror_mode": {
    "name": "ipython",
    "version": 2
   },
   "file_extension": ".py",
   "mimetype": "text/x-python",
   "name": "python",
   "nbconvert_exporter": "python",
   "pygments_lexer": "ipython2",
   "version": "2.7.6"
  }
 },
 "nbformat": 4,
 "nbformat_minor": 0
}
